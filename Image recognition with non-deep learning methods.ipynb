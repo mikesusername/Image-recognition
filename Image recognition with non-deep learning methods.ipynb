{
 "cells": [
  {
   "cell_type": "markdown",
   "metadata": {},
   "source": [
    "## Image Recognition with Non-Deep Learning Methods\n",
    "\n",
    "In this project, we look at a few non-deep learning methods for prediction so that we can compare them with our deep learning model (see \"Image Recognition with Keras\"). With Keras, we were able to achieve over 98% accuracy on the test set. Let's see how other methods compare.\n",
    "\n",
    "The classifiers we will use are decision tree, random forrests, gradient boosted stumps, logistic regression, and support vector machine. A KNN classifier was attempted, but proved to be too computationally expensive for my laptop."
   ]
  },
  {
   "cell_type": "code",
   "execution_count": 106,
   "metadata": {},
   "outputs": [],
   "source": [
    "import pandas as pd\n",
    "import numpy as np\n",
    "import mnist\n",
    "from sklearn.tree import DecisionTreeClassifier\n",
    "from sklearn.ensemble import RandomForestClassifier\n",
    "from sklearn.ensemble import GradientBoostingClassifier\n",
    "from sklearn.linear_model import LogisticRegression\n",
    "from sklearn.svm import SVC\n",
    "from sklearn.neighbors import KNeighborsClassifier\n",
    "import matplotlib\n",
    "import matplotlib.pyplot as plt\n",
    "%matplotlib inline"
   ]
  },
  {
   "cell_type": "markdown",
   "metadata": {},
   "source": [
    "## Data\n",
    "\n",
    "The data set is the mnist sample of 60,000 handwritten digits. Each sample is a 28x28 two dimensional array of pixels. Each value in the array is the pixel value and the position in the array represents the position in the actual 2D space where the digit was written.\n",
    "\n",
    "In our data set, the two dimensional data points are flattened to a one dimensional array of 28x28=784 points. The target set denotes what digit the sample represents, 0-9. Thus, there are ten categories for the target set. Using one-hot-encoding, the target set becomes an array of 10 elements.\n",
    "\n",
    "The test set is designed, specifically, so that none of the images was drawn by any of the drawers used in the train set."
   ]
  },
  {
   "cell_type": "code",
   "execution_count": 2,
   "metadata": {},
   "outputs": [
    {
     "name": "stdout",
     "output_type": "stream",
     "text": [
      "Extracting MNIST_data/train-images-idx3-ubyte.gz\n",
      "Extracting MNIST_data/train-labels-idx1-ubyte.gz\n",
      "Extracting MNIST_data/t10k-images-idx3-ubyte.gz\n",
      "Extracting MNIST_data/t10k-labels-idx1-ubyte.gz\n"
     ]
    }
   ],
   "source": [
    "from tensorflow.examples.tutorials.mnist import input_data\n",
    "mnist = input_data.read_data_sets(\"MNIST_data/\", one_hot=True)"
   ]
  },
  {
   "cell_type": "code",
   "execution_count": 3,
   "metadata": {},
   "outputs": [],
   "source": [
    "X_train=mnist.train.images\n",
    "y_train=mnist.train.labels\n",
    "\n",
    "X_valid=mnist.validation.images\n",
    "y_valid=mnist.validation.labels\n",
    "\n",
    "X_test=mnist.test.images\n",
    "y_test=mnist.test.labels"
   ]
  },
  {
   "cell_type": "code",
   "execution_count": 4,
   "metadata": {},
   "outputs": [
    {
     "name": "stdout",
     "output_type": "stream",
     "text": [
      "Shapes\n",
      "X_train: (55000, 784)\n",
      "y_train: (55000, 10)\n",
      "X_valid: (5000, 784)\n",
      "y_valid: (5000, 10)\n",
      "X_test: (10000, 784),\n",
      "y_test: (10000, 10)\n"
     ]
    }
   ],
   "source": [
    "#View the shapes of the data sets\n",
    "print(\"Shapes\")\n",
    "print(\"X_train: {}\\ny_train: {}\\nX_valid: {}\\ny_valid: {}\\nX_test: {},\\ny_test: {}\".format(X_train.shape,\n",
    "                                                                                      y_train.shape,\n",
    "                                                                                      X_valid.shape,\n",
    "                                                                                      y_valid.shape,\n",
    "                                                                                      X_test.shape,\n",
    "                                                                                      y_test.shape))"
   ]
  },
  {
   "cell_type": "markdown",
   "metadata": {},
   "source": [
    "## Single Decision Tree"
   ]
  },
  {
   "cell_type": "code",
   "execution_count": 17,
   "metadata": {},
   "outputs": [],
   "source": [
    "max_depth_list=[10,30,50,100]"
   ]
  },
  {
   "cell_type": "code",
   "execution_count": 16,
   "metadata": {},
   "outputs": [],
   "source": [
    "trees=[DecisionTreeClassifier(random_state=0,max_depth=depth).fit(X_train,y_train) for depth in max_depth_list]"
   ]
  },
  {
   "cell_type": "code",
   "execution_count": 19,
   "metadata": {},
   "outputs": [
    {
     "name": "stdout",
     "output_type": "stream",
     "text": [
      "\n",
      "\n",
      "Max depth: 10\n",
      "Train Accuracy: 0.8777454545454545\n",
      "Validation Accuracy: 0.8402\n",
      "\n",
      "\n",
      "Max depth: 30\n",
      "Train Accuracy: 0.9982727272727273\n",
      "Validation Accuracy: 0.8812\n",
      "\n",
      "\n",
      "Max depth: 50\n",
      "Train Accuracy: 0.9999818181818182\n",
      "Validation Accuracy: 0.8752\n",
      "\n",
      "\n",
      "Max depth: 100\n",
      "Train Accuracy: 1.0\n",
      "Validation Accuracy: 0.873\n"
     ]
    }
   ],
   "source": [
    "for i in range(len(max_depth_list)):\n",
    "    print(\"\\n\\nMax depth: {}\".format(max_depth_list[i]))\n",
    "    print(\"Train Accuracy: {}\\nValidation Accuracy: {}\".format(trees[i].score(X_train,y_train),\n",
    "                                                               trees[i].score(X_valid,y_valid)))"
   ]
  },
  {
   "cell_type": "markdown",
   "metadata": {},
   "source": [
    "We see that we may be overfitting somewhere arround max_depth=30 and above. Let's try a few more values below about 30."
   ]
  },
  {
   "cell_type": "code",
   "execution_count": 20,
   "metadata": {},
   "outputs": [],
   "source": [
    "max_depth_list2=[5,10,15,20,25,30,35]"
   ]
  },
  {
   "cell_type": "code",
   "execution_count": 21,
   "metadata": {},
   "outputs": [],
   "source": [
    "trees2=[DecisionTreeClassifier(random_state=0,max_depth=depth).fit(X_train,y_train) for depth in max_depth_list2]"
   ]
  },
  {
   "cell_type": "code",
   "execution_count": 24,
   "metadata": {},
   "outputs": [],
   "source": [
    "train_scores2=[tree.score(X_train,y_train) for tree in trees2]\n",
    "valid_scores2=[tree.score(X_valid,y_valid) for tree in trees2]"
   ]
  },
  {
   "cell_type": "code",
   "execution_count": 25,
   "metadata": {},
   "outputs": [
    {
     "data": {
      "text/plain": [
       "<matplotlib.legend.Legend at 0x2b4de4af7b8>"
      ]
     },
     "execution_count": 25,
     "metadata": {},
     "output_type": "execute_result"
    },
    {
     "data": {
      "image/png": "[encoded data removed]",
      "text/plain": [
       "<matplotlib.figure.Figure at 0x2b4ddbb92b0>"
      ]
     },
     "metadata": {},
     "output_type": "display_data"
    }
   ],
   "source": [
    "plt.plot(max_depth_list2,train_scores2,\"-\",color=\"red\",label=\"Train\")\n",
    "plt.plot(max_depth_list2,valid_scores2,\"-\",color=\"blue\",label=\"Validation\")\n",
    "plt.xlabel(\"Max_depth\")\n",
    "plt.ylabel(\"Accuracy\")\n",
    "plt.legend()"
   ]
  },
  {
   "cell_type": "markdown",
   "metadata": {},
   "source": [
    "We see that overfitting occurs arround max_depth of 10. Let's fit a few more models around 10. In any case, we see that our best validation accuracy is significantly less than what we can achieve with a deep learning model. Let's choose depth of 10 as our model determine the accuracy on the test set. \n",
    "\n",
    "We also note that overfitting is a significant problem with the decision tree. Perhaps our next step should be to look at random forrests and boosted ensembles of tree stumps."
   ]
  },
  {
   "cell_type": "code",
   "execution_count": 35,
   "metadata": {},
   "outputs": [
    {
     "data": {
      "text/plain": [
       "0.84489999999999998"
      ]
     },
     "execution_count": 35,
     "metadata": {},
     "output_type": "execute_result"
    }
   ],
   "source": [
    "trees2[1].score(X_test,y_test)"
   ]
  },
  {
   "cell_type": "markdown",
   "metadata": {},
   "source": [
    "## Random Forests\n",
    "\n",
    "As we observed previously, a single tree is prone to overfitting. To avoid this, we can consider a random forrest. "
   ]
  },
  {
   "cell_type": "code",
   "execution_count": 37,
   "metadata": {},
   "outputs": [],
   "source": [
    "forest=RandomForestClassifier(n_estimators=5,random_state=2)"
   ]
  },
  {
   "cell_type": "code",
   "execution_count": 38,
   "metadata": {},
   "outputs": [
    {
     "data": {
      "text/plain": [
       "RandomForestClassifier(bootstrap=True, class_weight=None, criterion='gini',\n",
       "            max_depth=None, max_features='auto', max_leaf_nodes=None,\n",
       "            min_impurity_decrease=0.0, min_impurity_split=None,\n",
       "            min_samples_leaf=1, min_samples_split=2,\n",
       "            min_weight_fraction_leaf=0.0, n_estimators=5, n_jobs=1,\n",
       "            oob_score=False, random_state=2, verbose=0, warm_start=False)"
      ]
     },
     "execution_count": 38,
     "metadata": {},
     "output_type": "execute_result"
    }
   ],
   "source": [
    "forest.fit(X_train,y_train)"
   ]
  },
  {
   "cell_type": "code",
   "execution_count": 39,
   "metadata": {},
   "outputs": [
    {
     "name": "stdout",
     "output_type": "stream",
     "text": [
      "Train Accuracy: 0.9861272727272727\n",
      "Validation Accuracy: 0.8814\n"
     ]
    }
   ],
   "source": [
    "print(\"Train Accuracy: {}\\nValidation Accuracy: {}\".format(forest.score(X_train,y_train),\n",
    "                                                          forest.score(X_valid,y_valid)))"
   ]
  },
  {
   "cell_type": "markdown",
   "metadata": {},
   "source": [
    "We have achieved better accuracy than the single tree, as expected, but we might still be over fitting and we are still at a much lower accuracy than the deep learning model. Let's adjust our parameters to see how high we can get our accuracy before moving on to boosted stumps."
   ]
  },
  {
   "cell_type": "code",
   "execution_count": 40,
   "metadata": {},
   "outputs": [],
   "source": [
    "estimators=[5,20,50,100,500]"
   ]
  },
  {
   "cell_type": "code",
   "execution_count": 41,
   "metadata": {},
   "outputs": [],
   "source": [
    "forests=[RandomForestClassifier(n_estimators=estimator,random_state=2).fit(X_train,y_train) for estimator in estimators]"
   ]
  },
  {
   "cell_type": "code",
   "execution_count": 43,
   "metadata": {},
   "outputs": [],
   "source": [
    "train_score_forest=[forest.score(X_train,y_train) for forest in forests]\n",
    "validation_score_forest=[forest.score(X_valid,y_valid) for forest in forests]"
   ]
  },
  {
   "cell_type": "code",
   "execution_count": 44,
   "metadata": {},
   "outputs": [
    {
     "data": {
      "text/plain": [
       "<matplotlib.legend.Legend at 0x2b48036ef28>"
      ]
     },
     "execution_count": 44,
     "metadata": {},
     "output_type": "execute_result"
    },
    {
     "data": {
      "image/png": "[encoded data removed]",
      "text/plain": [
       "<matplotlib.figure.Figure at 0x2b480334630>"
      ]
     },
     "metadata": {},
     "output_type": "display_data"
    }
   ],
   "source": [
    "plt.plot(estimators,train_score_forest,\"-\",color=\"red\",label=\"Train\")\n",
    "plt.plot(estimators,validation_score_forest,\"-\",color=\"blue\",label=\"Validation\")\n",
    "plt.xlabel(\"Number of Estimators\")\n",
    "plt.ylabel(\"Accuracy\")\n",
    "plt.legend()"
   ]
  },
  {
   "cell_type": "markdown",
   "metadata": {},
   "source": [
    "Looks like our accuracy maxed out at around 100 estimators. It also looks like we are overfitting at this point. Let's choose the 100 estimator random forrest and test our accuracy on the test set."
   ]
  },
  {
   "cell_type": "code",
   "execution_count": 45,
   "metadata": {},
   "outputs": [
    {
     "data": {
      "text/plain": [
       "0.90210000000000001"
      ]
     },
     "execution_count": 45,
     "metadata": {},
     "output_type": "execute_result"
    }
   ],
   "source": [
    "forests[3].score(X_test,y_test)"
   ]
  },
  {
   "cell_type": "markdown",
   "metadata": {},
   "source": [
    "90% accuracy is better than with the single tree but not nearly as good as the deep learning neural network. Let's try gradient boosted stumps to see if we can avoid the overfitting we see with the random forests."
   ]
  },
  {
   "cell_type": "markdown",
   "metadata": {},
   "source": [
    "## Gradient Boosted Stumps"
   ]
  },
  {
   "cell_type": "code",
   "execution_count": 47,
   "metadata": {},
   "outputs": [],
   "source": [
    "#Let's begin with the default setting of 100 trees, maximum depth 3 and learning rate of 0.1\n",
    "gbt=GradientBoostingClassifier(random_state=2)"
   ]
  },
  {
   "cell_type": "markdown",
   "metadata": {},
   "source": [
    "Before we can fit our model, we need to reverse the one-hot-encoding. We will do this by creating three different functions, which we can apply to the train, valid and test sets (as pandas data frames), respectively."
   ]
  },
  {
   "cell_type": "code",
   "execution_count": 59,
   "metadata": {},
   "outputs": [],
   "source": [
    "y_train_df=pd.DataFrame(y_train)\n",
    "y_valid_df=pd.DataFrame(y_valid)\n",
    "y_test_df=pd.DataFrame(y_test)"
   ]
  },
  {
   "cell_type": "code",
   "execution_count": 56,
   "metadata": {},
   "outputs": [],
   "source": [
    "#Create a function that can be applied to the y_train dataframe to undue the one hot encoding\n",
    "def get_class_train(row):\n",
    "    for column in y_train_df.columns:\n",
    "        if int(row[column])==1:\n",
    "            return column"
   ]
  },
  {
   "cell_type": "code",
   "execution_count": 57,
   "metadata": {},
   "outputs": [],
   "source": [
    "#Create a function that can be applied to the y_valid dataframe to undue the one hot encoding\n",
    "def get_class_valid(row):\n",
    "    for column in y_valid_df.columns:\n",
    "        if int(row[column])==1:\n",
    "            return column"
   ]
  },
  {
   "cell_type": "code",
   "execution_count": 58,
   "metadata": {},
   "outputs": [],
   "source": [
    "#Create a function that can be applied to the y_test dataframe to undue the one hot encoding\n",
    "def get_class_test(row):\n",
    "    for column in y_test_df.columns:\n",
    "        if int(row[column])==1:\n",
    "            return column"
   ]
  },
  {
   "cell_type": "code",
   "execution_count": 60,
   "metadata": {},
   "outputs": [],
   "source": [
    "#Train\n",
    "y_train_classes=pd.DataFrame(y_train).apply(get_class_train,axis=1)\n",
    "y_valid_classes=pd.DataFrame(y_valid).apply(get_class_valid,axis=1)\n",
    "y_test_classes=pd.DataFrame(y_test).apply(get_class_valid,axis=1)"
   ]
  },
  {
   "cell_type": "code",
   "execution_count": 61,
   "metadata": {},
   "outputs": [
    {
     "data": {
      "text/plain": [
       "GradientBoostingClassifier(criterion='friedman_mse', init=None,\n",
       "              learning_rate=0.1, loss='deviance', max_depth=3,\n",
       "              max_features=None, max_leaf_nodes=None,\n",
       "              min_impurity_decrease=0.0, min_impurity_split=None,\n",
       "              min_samples_leaf=1, min_samples_split=2,\n",
       "              min_weight_fraction_leaf=0.0, n_estimators=100,\n",
       "              presort='auto', random_state=2, subsample=1.0, verbose=0,\n",
       "              warm_start=False)"
      ]
     },
     "execution_count": 61,
     "metadata": {},
     "output_type": "execute_result"
    }
   ],
   "source": [
    "gbt.fit(X_train,y_train_classes)"
   ]
  },
  {
   "cell_type": "code",
   "execution_count": 62,
   "metadata": {},
   "outputs": [
    {
     "name": "stdout",
     "output_type": "stream",
     "text": [
      "Train Accuracy: 0.9619090909090909\n",
      "Validation Accuracy: 0.9472\n"
     ]
    }
   ],
   "source": [
    "print(\"Train Accuracy: {}\\nValidation Accuracy: {}\".format(gbt.score(X_train,y_train_classes),\n",
    "                                                           gbt.score(X_valid,y_valid_classes)))"
   ]
  },
  {
   "cell_type": "markdown",
   "metadata": {},
   "source": [
    "Let's adjust the learning rate to increase complexity."
   ]
  },
  {
   "cell_type": "code",
   "execution_count": 65,
   "metadata": {},
   "outputs": [],
   "source": [
    "learn_rates=[0.5,1]\n",
    "gbt_lr_list=[GradientBoostingClassifier(learning_rate=lr,random_state=2).fit(X_train,y_train_classes) for lr in learn_rates]"
   ]
  },
  {
   "cell_type": "code",
   "execution_count": 66,
   "metadata": {},
   "outputs": [
    {
     "name": "stdout",
     "output_type": "stream",
     "text": [
      "Train Accuracy: 0.9915454545454545\n",
      "Validation Accuracy: 0.9546\n",
      "Train Accuracy: 0.9617818181818182\n",
      "Validation Accuracy: 0.925\n"
     ]
    }
   ],
   "source": [
    "print(\"Train Accuracy: {}\\nValidation Accuracy: {}\".format(gbt_lr_list[0].score(X_train,y_train_classes),\n",
    "                                                           gbt_lr_list[0].score(X_valid,y_valid_classes)))\n",
    "print(\"Train Accuracy: {}\\nValidation Accuracy: {}\".format(gbt_lr_list[1].score(X_train,y_train_classes),\n",
    "                                                           gbt_lr_list[1].score(X_valid,y_valid_classes)))"
   ]
  },
  {
   "cell_type": "code",
   "execution_count": 68,
   "metadata": {},
   "outputs": [],
   "source": [
    "gbt3=GradientBoostingClassifier(random_state=2,max_depth=1,n_estimators=300).fit(X_train,y_train_classes)"
   ]
  },
  {
   "cell_type": "code",
   "execution_count": 69,
   "metadata": {},
   "outputs": [
    {
     "name": "stdout",
     "output_type": "stream",
     "text": [
      "Train Accuracy: 0.9045818181818182\n",
      "Validation Accuracy: 0.9048\n"
     ]
    }
   ],
   "source": [
    "#Find the accuracy of the latest gbt\n",
    "print(\"Train Accuracy: {}\\nValidation Accuracy: {}\".format(gbt3.score(X_train,y_train_classes),\n",
    "                                                           gbt3.score(X_valid,y_valid_classes)))"
   ]
  },
  {
   "cell_type": "markdown",
   "metadata": {},
   "source": [
    "This appears to be underfit. Let's try 400 estimators with max_depth 2"
   ]
  },
  {
   "cell_type": "code",
   "execution_count": 70,
   "metadata": {},
   "outputs": [],
   "source": [
    "gbt4=GradientBoostingClassifier(random_state=2,max_depth=2,n_estimators=400).fit(X_train,y_train_classes)"
   ]
  },
  {
   "cell_type": "code",
   "execution_count": 71,
   "metadata": {},
   "outputs": [
    {
     "name": "stdout",
     "output_type": "stream",
     "text": [
      "Train Accuracy: 0.9737818181818182\n",
      "Validation Accuracy: 0.9572\n"
     ]
    }
   ],
   "source": [
    "#Find the accuracy of gbt4\n",
    "print(\"Train Accuracy: {}\\nValidation Accuracy: {}\".format(gbt4.score(X_train,y_train_classes),\n",
    "                                                           gbt4.score(X_valid,y_valid_classes)))"
   ]
  },
  {
   "cell_type": "markdown",
   "metadata": {},
   "source": [
    "It appears that gbt4 may not be overfit and that increasing the complexity can result in greater accuracy. However, due to the large amounts of time it takes to train these models, I will stop here. I will choose gbt4 as the best performing gradient boosted tree and check it's performance on the test set."
   ]
  },
  {
   "cell_type": "code",
   "execution_count": 72,
   "metadata": {},
   "outputs": [
    {
     "name": "stdout",
     "output_type": "stream",
     "text": [
      "Test Accuracy of gbt4: 0.9545\n"
     ]
    }
   ],
   "source": [
    "print(\"Test Accuracy of gbt4: {}\".format(gbt4.score(X_test,y_test_classes)))"
   ]
  },
  {
   "cell_type": "markdown",
   "metadata": {},
   "source": [
    "The MNIST website reports literature values of the error to be 7.7 for boosted stumps, 1.26 for products of boosted stumps, and 1.53 for boosted trees having 17 leaves. We see that our results are better than the boosted stumps, but not quite as good as the other two methods.\n",
    "\n",
    "With cloud computing, I could have reasonably conducted a more thorough parameter search and acquired better results. However, the deep learning method can also achieve these results in very little time on my laptop."
   ]
  },
  {
   "cell_type": "markdown",
   "metadata": {},
   "source": [
    "## Linear Classifiers\n",
    "\n",
    "Next, let's try logistic regression (without preprocessing or feature engineering) and a support vector machine. Due to the large number of features (748), manual feature engineering would be a time consuming method. However, I do imagine that relationships would exist amongst the features. Thus, I suspect a SVM would achieve better results than the logistic regression, but let us compare and contrast both methods.\n",
    "\n",
    "### Logistic Regression"
   ]
  },
  {
   "cell_type": "code",
   "execution_count": 75,
   "metadata": {},
   "outputs": [],
   "source": [
    "#Use the default setting of C=1.\n",
    "logreg=LogisticRegression(random_state=2).fit(X_train,y_train_classes)"
   ]
  },
  {
   "cell_type": "code",
   "execution_count": 76,
   "metadata": {},
   "outputs": [
    {
     "name": "stdout",
     "output_type": "stream",
     "text": [
      "Train Accuracy:0.9281090909090909\n",
      "Validation Accuracy: 0.921\n"
     ]
    }
   ],
   "source": [
    "print(\"Train Accuracy:{}\\nValidation Accuracy: {}\".format(logreg.score(X_train,y_train_classes),\n",
    "                                                         logreg.score(X_valid,y_valid_classes)))"
   ]
  },
  {
   "cell_type": "markdown",
   "metadata": {},
   "source": [
    "It looks like we are underfitting. The parameter C is the inverse of the regularization. Thus, increasing C, will decrease the regularization, which should correspond to a more complex model. Let's try fitting a couple more models."
   ]
  },
  {
   "cell_type": "code",
   "execution_count": 77,
   "metadata": {},
   "outputs": [],
   "source": [
    "C_vals=[100,200]\n",
    "logreg_models=[LogisticRegression(random_state=2,C=C).fit(X_train,y_train_classes) for C in C_vals]"
   ]
  },
  {
   "cell_type": "code",
   "execution_count": 79,
   "metadata": {},
   "outputs": [
    {
     "name": "stdout",
     "output_type": "stream",
     "text": [
      "\n",
      "Train Accuracy:0.9318\n",
      "Validation Accuracy: 0.919\n",
      "\n",
      "Train Accuracy:0.9320363636363637\n",
      "Validation Accuracy: 0.9184\n"
     ]
    }
   ],
   "source": [
    "for model in logreg_models:\n",
    "    print(\"\\nTrain Accuracy:{}\\nValidation Accuracy: {}\".format(model.score(X_train,y_train_classes),\n",
    "                                                             model.score(X_valid,y_valid_classes)))"
   ]
  },
  {
   "cell_type": "code",
   "execution_count": 80,
   "metadata": {},
   "outputs": [],
   "source": [
    "#Try again with higher C_vals\n",
    "C_vals2=[500,1000,1e40]\n",
    "logreg_models2=[LogisticRegression(random_state=2,C=C).fit(X_train,y_train_classes) for C in C_vals2]"
   ]
  },
  {
   "cell_type": "code",
   "execution_count": 81,
   "metadata": {},
   "outputs": [
    {
     "name": "stdout",
     "output_type": "stream",
     "text": [
      "\n",
      "Train Accuracy:0.9322363636363636\n",
      "Validation Accuracy: 0.918\n",
      "\n",
      "Train Accuracy:0.9322727272727273\n",
      "Validation Accuracy: 0.9168\n",
      "\n",
      "Train Accuracy:0.9323454545454546\n",
      "Validation Accuracy: 0.9168\n"
     ]
    }
   ],
   "source": [
    "for model in logreg_models2:\n",
    "    print(\"\\nTrain Accuracy:{}\\nValidation Accuracy: {}\".format(model.score(X_train,y_train_classes),\n",
    "                                                             model.score(X_valid,y_valid_classes)))"
   ]
  },
  {
   "cell_type": "markdown",
   "metadata": {},
   "source": [
    "It still appears that we are underfitting, but it is not due to regularization. Let us examine the accuracy on the test set and then move on to the SVM, which might provide us with a more complex and, therefore, more accurate model."
   ]
  },
  {
   "cell_type": "code",
   "execution_count": 83,
   "metadata": {},
   "outputs": [
    {
     "name": "stdout",
     "output_type": "stream",
     "text": [
      "Test Accuracy: 0.9198\n"
     ]
    }
   ],
   "source": [
    "print(\"Test Accuracy: {}\".format(logreg.score(X_test,y_test_classes)))"
   ]
  },
  {
   "cell_type": "markdown",
   "metadata": {},
   "source": [
    "While we have not achieved as high of an accuracy with logistic regression as we have with other models, our roughly 8% error is less than the 12% error that MNIST reports for a 1 layer NN without preprocessing."
   ]
  },
  {
   "cell_type": "markdown",
   "metadata": {},
   "source": [
    "### Support Vector Machine"
   ]
  },
  {
   "cell_type": "code",
   "execution_count": 94,
   "metadata": {},
   "outputs": [],
   "source": [
    "svm_model1=SVC().fit(X_train,y_train_classes)"
   ]
  },
  {
   "cell_type": "code",
   "execution_count": 95,
   "metadata": {},
   "outputs": [
    {
     "name": "stdout",
     "output_type": "stream",
     "text": [
      "Train Accuracty: 0.9418363636363636\n",
      "Validation Accuracy: 0.9468\n"
     ]
    }
   ],
   "source": [
    "print(\"Train Accuracty: {}\\nValidation Accuracy: {}\".format(svm_model1.score(X_train,y_train_classes),\n",
    "                                                           svm_model1.score(X_valid,y_valid_classes)))"
   ]
  },
  {
   "cell_type": "code",
   "execution_count": 96,
   "metadata": {},
   "outputs": [],
   "source": [
    "#Increase complexity\n",
    "svm_model2=SVC(C=500).fit(X_train,y_train_classes)"
   ]
  },
  {
   "cell_type": "code",
   "execution_count": 97,
   "metadata": {},
   "outputs": [
    {
     "name": "stdout",
     "output_type": "stream",
     "text": [
      "Train Accuracty: 0.9997454545454545\n",
      "Validation Accuracy: 0.9758\n"
     ]
    }
   ],
   "source": [
    "print(\"Train Accuracty: {}\\nValidation Accuracy: {}\".format(svm_model2.score(X_train,y_train_classes),\n",
    "                                                           svm_model2.score(X_valid,y_valid_classes)))"
   ]
  },
  {
   "cell_type": "markdown",
   "metadata": {},
   "source": [
    "This looks like a good fit, but let's see if we can get a higher validation accuracy with a slightly less complex model."
   ]
  },
  {
   "cell_type": "code",
   "execution_count": 98,
   "metadata": {},
   "outputs": [],
   "source": [
    "svm_model3=SVC(C=300).fit(X_train,y_train_classes)"
   ]
  },
  {
   "cell_type": "code",
   "execution_count": 99,
   "metadata": {},
   "outputs": [
    {
     "name": "stdout",
     "output_type": "stream",
     "text": [
      "Train Accuracty: 0.9992727272727273\n",
      "Validation Accuracy: 0.9762\n"
     ]
    }
   ],
   "source": [
    "print(\"Train Accuracty: {}\\nValidation Accuracy: {}\".format(svm_model3.score(X_train,y_train_classes),\n",
    "                                                           svm_model3.score(X_valid,y_valid_classes)))"
   ]
  },
  {
   "cell_type": "code",
   "execution_count": 100,
   "metadata": {},
   "outputs": [],
   "source": [
    "svm_model4=SVC(C=100).fit(X_train,y_train_classes)"
   ]
  },
  {
   "cell_type": "code",
   "execution_count": 101,
   "metadata": {},
   "outputs": [
    {
     "name": "stdout",
     "output_type": "stream",
     "text": [
      "Train Accuracty: 0.9945818181818182\n",
      "Validation Accuracy: 0.9764\n"
     ]
    }
   ],
   "source": [
    "print(\"Train Accuracty: {}\\nValidation Accuracy: {}\".format(svm_model4.score(X_train,y_train_classes),\n",
    "                                                           svm_model4.score(X_valid,y_valid_classes)))"
   ]
  },
  {
   "cell_type": "code",
   "execution_count": 103,
   "metadata": {},
   "outputs": [],
   "source": [
    "svm_model5=SVC(C=50).fit(X_train,y_train_classes)"
   ]
  },
  {
   "cell_type": "code",
   "execution_count": 104,
   "metadata": {},
   "outputs": [
    {
     "name": "stdout",
     "output_type": "stream",
     "text": [
      "Train Accuracty: 0.9881090909090909\n",
      "Validation Accuracy: 0.9754\n"
     ]
    }
   ],
   "source": [
    "print(\"Train Accuracty: {}\\nValidation Accuracy: {}\".format(svm_model5.score(X_train,y_train_classes),\n",
    "                                                           svm_model5.score(X_valid,y_valid_classes)))"
   ]
  },
  {
   "cell_type": "markdown",
   "metadata": {},
   "source": [
    "Let's choose the last model as our model of choice and score our test set."
   ]
  },
  {
   "cell_type": "code",
   "execution_count": 105,
   "metadata": {},
   "outputs": [
    {
     "name": "stdout",
     "output_type": "stream",
     "text": [
      "Test Accuracy: 0.9722\n"
     ]
    }
   ],
   "source": [
    "print(\"Test Accuracy: {}\".format(svm_model5.score(X_test,y_test_classes)))"
   ]
  },
  {
   "cell_type": "markdown",
   "metadata": {},
   "source": [
    "The MNIST website reports an error of 1.4%. We didn't do quite as well. However, we did improve our score compared with the logistic regression, as expected, and overall, this is a great score."
   ]
  },
  {
   "cell_type": "markdown",
   "metadata": {},
   "source": [
    "## Conclusion\n",
    "\n",
    "All methods tested, had accuracies that ranged from 84% to 97%. The single decision tree had a test accuracy of 84%. The random forest had improved results of 90%. Using gradient boosted stumps, we achieved an accuracy of 95%. The MNIST website reports a literature result with an error of 7.7% for the gradient boosted stump.\n",
    "\n",
    "Logistic regression without preprocessing or feature engineering resulted in 92% accuracy. MNIST doesn't report a score for logistic regression, however, they do report an error of 12% for a single layer neural network. Thus, I would assume that our 92% accuracy is up to industry standard.\n",
    "\n",
    "The support vector machine achieved a higher accuracy, as was expected. We achieved 97% accuracy, which is close to the 98% accuracy we achieved with the deep learning neural network. This is not quite as good as the 98.6% accuracy MNIST reports for the SVM, Gaussian kernal, no preprocessing score.\n",
    "\n",
    "Although these scores are similar to what has been achieved before, for the respective models, MNIST reports models that have achieved greater than 99% accuracy."
   ]
  },
  {
   "cell_type": "code",
   "execution_count": null,
   "metadata": {},
   "outputs": [],
   "source": []
  }
 ],
 "metadata": {
  "kernelspec": {
   "display_name": "Python [conda root]",
   "language": "python",
   "name": "conda-root-py"
  },
  "language_info": {
   "codemirror_mode": {
    "name": "ipython",
    "version": 3
   },
   "file_extension": ".py",
   "mimetype": "text/x-python",
   "name": "python",
   "nbconvert_exporter": "python",
   "pygments_lexer": "ipython3",
   "version": "3.5.4"
  }
 },
 "nbformat": 4,
 "nbformat_minor": 2
}
